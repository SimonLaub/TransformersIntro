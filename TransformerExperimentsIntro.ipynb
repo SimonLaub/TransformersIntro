{
  "nbformat": 4,
  "nbformat_minor": 0,
  "metadata": {
    "colab": {
      "provenance": []
    },
    "kernelspec": {
      "name": "python3",
      "display_name": "Python 3"
    },
    "language_info": {
      "name": "python"
    }
  },
  "cells": [
    {
      "cell_type": "code",
      "execution_count": null,
      "metadata": {
        "id": "gUBj1b3Fk9a-"
      },
      "outputs": [],
      "source": [
        "# Transformer experiments\n",
        "# Inspiration from Huggingface\n",
        "# February 2024. Sila"
      ]
    },
    {
      "cell_type": "code",
      "source": [
        "from transformers import pipeline, set_seed\n",
        "\n",
        "classifier = pipeline(\"sentiment-analysis\", \"distilbert-base-uncased-finetuned-sst-2-english\")\n",
        "classifier(\"Aarhus is an awesome city, with a vibrant cultural scene.\")"
      ],
      "metadata": {
        "colab": {
          "base_uri": "https://localhost:8080/"
        },
        "id": "0h6wVwpslIZe",
        "outputId": "e0a338d0-3c5f-4e7d-8d54-17b92a710677"
      },
      "execution_count": null,
      "outputs": [
        {
          "output_type": "execute_result",
          "data": {
            "text/plain": [
              "[{'label': 'POSITIVE', 'score': 0.999884843826294}]"
            ]
          },
          "metadata": {},
          "execution_count": 17
        }
      ]
    },
    {
      "cell_type": "code",
      "source": [
        "classifier(\"AGF has seen better days\")"
      ],
      "metadata": {
        "colab": {
          "base_uri": "https://localhost:8080/"
        },
        "id": "XlkLwjeMl_6r",
        "outputId": "6e7b181a-3651-4051-c69a-f78f67b07875"
      },
      "execution_count": null,
      "outputs": [
        {
          "output_type": "execute_result",
          "data": {
            "text/plain": [
              "[{'label': 'NEGATIVE', 'score': 0.9947360157966614}]"
            ]
          },
          "metadata": {},
          "execution_count": 10
        }
      ]
    },
    {
      "cell_type": "code",
      "source": [
        "from transformers import pipeline\n",
        "classifier = pipeline(\"zero-shot-classification\",\n",
        "                      model=\"facebook/bart-large-mnli\")\n",
        "\n",
        "classifier(\n",
        "    \"This is a course about C++ programming\",\n",
        "    candidate_labels=[\"Cooking\", \"IT\", \"politics\", \"business\"],\n",
        ")"
      ],
      "metadata": {
        "colab": {
          "base_uri": "https://localhost:8080/"
        },
        "id": "TcaRBWEhmctK",
        "outputId": "4f593c42-ee0f-4a6a-8ab2-50e8b0eb44d7"
      },
      "execution_count": null,
      "outputs": [
        {
          "output_type": "execute_result",
          "data": {
            "text/plain": [
              "{'sequence': 'This is a course about C++ programming',\n",
              " 'labels': ['IT', 'business', 'Cooking', 'politics'],\n",
              " 'scores': [0.4377013146877289,\n",
              "  0.2929771840572357,\n",
              "  0.1648344099521637,\n",
              "  0.1044871136546135]}"
            ]
          },
          "metadata": {},
          "execution_count": 11
        }
      ]
    },
    {
      "cell_type": "code",
      "source": [
        "classifier(\n",
        "    \"The recipe for marshmellows was great\",\n",
        "    candidate_labels=[\"Cooking\", \"IT\", \"politics\", \"business\"])"
      ],
      "metadata": {
        "colab": {
          "base_uri": "https://localhost:8080/"
        },
        "id": "ccOlc-cPo4B8",
        "outputId": "ad7ec2d6-d131-4b14-bc8f-04c4448f2194"
      },
      "execution_count": null,
      "outputs": [
        {
          "output_type": "execute_result",
          "data": {
            "text/plain": [
              "{'sequence': 'The recipe for marshmellows was great',\n",
              " 'labels': ['Cooking', 'IT', 'business', 'politics'],\n",
              " 'scores': [0.9134815335273743,\n",
              "  0.04793522506952286,\n",
              "  0.030422000214457512,\n",
              "  0.008161296136677265]}"
            ]
          },
          "metadata": {},
          "execution_count": 13
        }
      ]
    },
    {
      "cell_type": "code",
      "source": [
        "generator = pipeline(\"text-generation\", model='gpt2')\n",
        "generator(\"In this course, we will teach you how to\")"
      ],
      "metadata": {
        "colab": {
          "base_uri": "https://localhost:8080/"
        },
        "id": "Ryz_3z82nDNr",
        "outputId": "18911a98-d3f7-4467-8501-2a9342780d31"
      },
      "execution_count": null,
      "outputs": [
        {
          "output_type": "stream",
          "name": "stderr",
          "text": [
            "Setting `pad_token_id` to `eos_token_id`:50256 for open-end generation.\n"
          ]
        },
        {
          "output_type": "execute_result",
          "data": {
            "text/plain": [
              "[{'generated_text': \"In this course, we will teach you how to read and talk with the world's finest poets, poets, performers, filmmakers, directors, directors of music, and in a small number of unique ways. We will:\\n\\nExplain common misunderstand\"}]"
            ]
          },
          "metadata": {},
          "execution_count": 15
        }
      ]
    },
    {
      "cell_type": "code",
      "source": [
        "set_seed(42)\n",
        "\n",
        "generator(\"In this course, we will teach you how to\", max_length=30, num_return_sequences=5)"
      ],
      "metadata": {
        "colab": {
          "base_uri": "https://localhost:8080/"
        },
        "id": "CgZLJ1_rp3M1",
        "outputId": "50801c6d-6e93-4655-af17-9a0e3d7c6e30"
      },
      "execution_count": null,
      "outputs": [
        {
          "output_type": "stream",
          "name": "stderr",
          "text": [
            "Truncation was not explicitly activated but `max_length` is provided a specific value, please use `truncation=True` to explicitly truncate examples to max length. Defaulting to 'longest_first' truncation strategy. If you encode pairs of sequences (GLUE-style) with the tokenizer you can select this strategy more precisely by providing a specific strategy to `truncation`.\n",
            "Setting `pad_token_id` to `eos_token_id`:50256 for open-end generation.\n"
          ]
        },
        {
          "output_type": "execute_result",
          "data": {
            "text/plain": [
              "[{'generated_text': 'In this course, we will teach you how to manage your own domain.\\n\\nDependencies\\n\\nIf you are new to WordPress, you'},\n",
              " {'generated_text': 'In this course, we will teach you how to create a fully open-source, interactive, real time blockchain application to enable you to understand how data'},\n",
              " {'generated_text': 'In this course, we will teach you how to set up your own custom Android Wear phone using the Moto 360.\\n\\nOur next course will be'},\n",
              " {'generated_text': 'In this course, we will teach you how to write and do a simple program of some basic mathematics, a simple proof of theorem proving, and then'},\n",
              " {'generated_text': 'In this course, we will teach you how to build a smart device and how to use it. We will use a Google Assistant to help you connect'}]"
            ]
          },
          "metadata": {},
          "execution_count": 18
        }
      ]
    },
    {
      "cell_type": "code",
      "source": [
        "generator(\"Donald Trump is\", max_length=30, num_return_sequences=10)"
      ],
      "metadata": {
        "colab": {
          "base_uri": "https://localhost:8080/"
        },
        "id": "pUHNse_AqUy1",
        "outputId": "8190d396-143d-40a5-d293-9118bb34bd31"
      },
      "execution_count": null,
      "outputs": [
        {
          "output_type": "stream",
          "name": "stderr",
          "text": [
            "Setting `pad_token_id` to `eos_token_id`:50256 for open-end generation.\n"
          ]
        },
        {
          "output_type": "execute_result",
          "data": {
            "text/plain": [
              "[{'generated_text': 'Donald Trump is playing both sides of the aisle this time around – a guy who has repeatedly declared both sides to be enemies and enemies of the American people'},\n",
              " {'generated_text': \"Donald Trump is very un-American.\\n\\nAnd he was absolutely right. He can't have people of both parties, with their views and their\"},\n",
              " {'generated_text': \"Donald Trump is not your enemy (we have zero enemies) and he's not like Putin. We also never say the only superpower is America. We\"},\n",
              " {'generated_text': 'Donald Trump is now under investigation, and if he was, he would be prosecuted to the full extent of the law,\" the letter said.\\n\\n'},\n",
              " {'generated_text': 'Donald Trump is getting some of this money without his signature and without doing anything that\\'s going to change things,\" Romney campaign spokeswoman Jennifer Palmieri said on'},\n",
              " {'generated_text': \"Donald Trump is a white supremacist.\\n\\nBut this isn't as black as you might believe. We're only one-quarter black.\\n\\n\"},\n",
              " {'generated_text': \"Donald Trump is in a tough fight. He's making clear he's not going to tolerate any violence.\\n\\nIn the video, Trump says that\"},\n",
              " {'generated_text': 'Donald Trump is running for president to do what Bill Clinton did – win every single thing you did. He is clearly trying to do it by taking on'},\n",
              " {'generated_text': \"Donald Trump is far from alone.\\n\\nWhile Hillary Clinton and Donald Trump are vying to take the presidency, one has to ask for this campaign's\"},\n",
              " {'generated_text': 'Donald Trump is a complete fool,\" said one.\\n\\n\"His job is to use any excuse,\" said the other.\\n\\nAnother former high'}]"
            ]
          },
          "metadata": {},
          "execution_count": 21
        }
      ]
    },
    {
      "cell_type": "code",
      "source": [
        "generator(\"Freudian theories are\", max_length=30, num_return_sequences=10)"
      ],
      "metadata": {
        "colab": {
          "base_uri": "https://localhost:8080/"
        },
        "id": "g5Fj4k9Dq3Kk",
        "outputId": "dc699ad9-e963-4fcc-f828-0901895a401f"
      },
      "execution_count": null,
      "outputs": [
        {
          "output_type": "stream",
          "name": "stderr",
          "text": [
            "Setting `pad_token_id` to `eos_token_id`:50256 for open-end generation.\n"
          ]
        },
        {
          "output_type": "execute_result",
          "data": {
            "text/plain": [
              "[{'generated_text': 'Freudian theories are the product of a large-scale historical evolution of the nature of reality.\\n\\nBut that makes the question of whether people'},\n",
              " {'generated_text': \"Freudian theories are false. This is why they're so popular, because they are the ones who deny the existence of the Trinity. And as\"},\n",
              " {'generated_text': 'Freudian theories are not the same thing as empirical theory, which is the subject we want to examine in detail, as much as it is necessary'},\n",
              " {'generated_text': 'Freudian theories are grounded in fact. When Hitler went into power, one of the main arguments being that the Jews were inferior to the Germans -'},\n",
              " {'generated_text': \"Freudian theories are based on the axioms that show that you may have different desires or the opposite of which you're just an ideal.\"},\n",
              " {'generated_text': \"Freudian theories are a good deal more plausible, but how do they relate to that of quantum physics? Let's assume that I have an account\"},\n",
              " {'generated_text': 'Freudian theories are more accurate.\\n\\nOn August 11, 1998 at a conference organised by the European Union, the French government presented its view'},\n",
              " {'generated_text': 'Freudian theories are the product of our modern world in which everything seems to be built on a foundation different from yours, which leaves everyone wondering if'},\n",
              " {'generated_text': 'Freudian theories are often cited to confirm the Marxist position. They claim that Marx said that the \"feudal\" bourgeois economic state, a'},\n",
              " {'generated_text': 'Freudian theories are of interest because, while most are of the traditional type, even though some of them posit that human nature would probably be changed'}]"
            ]
          },
          "metadata": {},
          "execution_count": 26
        }
      ]
    },
    {
      "cell_type": "code",
      "source": [
        "question_answerer = pipeline(\"question-answering\", model='distilbert-base-cased-distilled-squad')\n",
        "question_answerer(\n",
        "    question=\"Where do I work?\",\n",
        "    context=\"My name is Sylvain and I work at Hugging Face in Brooklyn\",\n",
        ")"
      ],
      "metadata": {
        "colab": {
          "base_uri": "https://localhost:8080/"
        },
        "id": "I5Ue2j_nsFSt",
        "outputId": "cbc90ce2-1b1a-4a55-81d5-54818957427f"
      },
      "execution_count": null,
      "outputs": [
        {
          "output_type": "execute_result",
          "data": {
            "text/plain": [
              "{'score': 0.6949767470359802, 'start': 33, 'end': 45, 'answer': 'Hugging Face'}"
            ]
          },
          "metadata": {},
          "execution_count": 28
        }
      ]
    },
    {
      "cell_type": "code",
      "source": [
        "context = r\"\"\"\n",
        "\n",
        "Extractive Question Answering is the task of extracting an answer from a text given a question. An example of a\n",
        "question answering dataset is the SQuAD dataset, which is entirely based on that task. If you would like to fine-tune\n",
        "a model on a SQuAD task, you may leverage the examples/pytorch/question-answering/run_squad.py script.\n",
        "\n",
        "\"\"\""
      ],
      "metadata": {
        "id": "NdsPgz3Xsh_w"
      },
      "execution_count": null,
      "outputs": []
    },
    {
      "cell_type": "code",
      "source": [
        "result = question_answerer(question=\"What is a good example of a question answering dataset?\",     context=context)\n",
        "\n",
        "print(f\"Answer: '{result['answer']}', score: {round(result['score'], 4)}, start: {result['start']}, end: {result['end']}\")"
      ],
      "metadata": {
        "colab": {
          "base_uri": "https://localhost:8080/"
        },
        "id": "8wpnQoudsp2K",
        "outputId": "fc758ebf-5cd3-425a-e250-45cc5ff36c4d"
      },
      "execution_count": null,
      "outputs": [
        {
          "output_type": "stream",
          "name": "stdout",
          "text": [
            "Answer: 'SQuAD dataset', score: 0.5152, start: 148, end: 161\n"
          ]
        }
      ]
    },
    {
      "cell_type": "code",
      "source": [
        "context = r\"\"\"\n",
        "Burt Freeman Bacharach, May 12, 1928 – February 8, 2023, was an American composer, songwriter, record producer, and pianist\n",
        "who is widely regarded as one of the most important and influential figures of 20th-century popular music.\n",
        "Starting in the 1950s, he composed hundreds of pop songs, many in collaboration with lyricist Hal David.\n",
        "Bacharachs music is characterized by unusual chord progressions and time signature changes,\n",
        "influenced by his background in jazz, and uncommon selections of instruments for small orchestras.\n",
        "He arranged, conducted, and produced much of his recorded output.\n",
        "\"\"\""
      ],
      "metadata": {
        "id": "feaQyyoQtK72"
      },
      "execution_count": null,
      "outputs": []
    },
    {
      "cell_type": "code",
      "source": [
        "result = question_answerer(question=\"Who did Bacharac work with?\",     context=context)\n",
        "\n",
        "print(f\"Answer: '{result['answer']}', score: {round(result['score'], 4)}, start: {result['start']}, end: {result['end']}\")"
      ],
      "metadata": {
        "colab": {
          "base_uri": "https://localhost:8080/"
        },
        "id": "3OAwWSt7tq9a",
        "outputId": "8622eece-22ec-4882-e9a2-13650d373fda"
      },
      "execution_count": null,
      "outputs": [
        {
          "output_type": "stream",
          "name": "stdout",
          "text": [
            "Answer: 'Hal David', score: 0.5882, start: 327, end: 336\n"
          ]
        }
      ]
    }
  ]
}