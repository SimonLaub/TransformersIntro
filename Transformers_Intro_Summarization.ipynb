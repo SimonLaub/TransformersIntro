{
  "nbformat": 4,
  "nbformat_minor": 0,
  "metadata": {
    "colab": {
      "provenance": []
    },
    "kernelspec": {
      "name": "python3",
      "display_name": "Python 3"
    },
    "language_info": {
      "name": "python"
    }
  },
  "cells": [
    {
      "cell_type": "code",
      "execution_count": 1,
      "metadata": {
        "id": "7L2GlKN3oHeI"
      },
      "outputs": [],
      "source": [
        "# Transformer experiments\n",
        "# Inspiration from Huggingface\n",
        "# February 2024. Sila"
      ]
    },
    {
      "cell_type": "code",
      "source": [
        "from transformers import pipeline\n",
        "\n",
        "summarizer = pipeline(\"summarization\", \"sshleifer/distilbart-cnn-12-6\")"
      ],
      "metadata": {
        "id": "vySSKNQVoca2"
      },
      "execution_count": 6,
      "outputs": []
    },
    {
      "cell_type": "code",
      "source": [
        "text_doc = r\"\"\"\n",
        "Former President Donald Trump said he is going to have a big victory in the Republican South Carolina presidential primary Saturday, sending a signal to President Joe Biden that his campaign will be coming at him \"like a freight train.\n",
        "\"We're going to have a gigantic victory here in South Carolina,\n",
        " Trump, the front-runner for the GOP nomination, told a raucous crowd Friday at the Winthrop Coliseum in Rock Hill,\n",
        "  South Carolina at a rally that aired live on Newsmax and simulcast on the Newsmax2 online streaming platform.\n",
        "  We're going to show crooked Joe Biden and the radical left Democrats that we are coming like a freight train in November.\n",
        "Trump then took aim at his lone remaining opponent, former South Carolina Gov. Nikki Haley, who was the U.N. ambassador\n",
        "in the first year of his administration. The FiveThirtyEight average of polling shows Trump with a 63.6% to 32.9% lead over\n",
        "Nikki Haley.\n",
        "Trump then tol the black community: Our message to the black community in this election will be a very simple one: If you want strong borders, safe neighborhoods,\n",
        "rising wages, good jobs, great education and the return of the American dream then congratulations you are a Republican!\n",
        "Based on the fact that District Attorney Fani Willis and her Lover were together long prior to the\n",
        " filing date of their Fake Lawsuit against me and many other innocent people, despite their sworn testimony to the contrary,\n",
        " this case must be determined as OVER and, of no further force or effect. Among other things,\n",
        "  in close coordination and conjunction with the DOJ and White House (numerous 8-hour meetings between the Biden\n",
        "  people and them in D.C.!), this case was all about stealing close to $1 Million Dollars for Lover Wade,\n",
        "   and Election Interference, whereby a vicious and heinous attack is made on Crooked Joe Biden’s Political Opponent.\n",
        "    This has never happened in the U.S.A., it is the “stuff” of Third World Countries and Banana Republics!\n",
        "\"\"\"\n",
        "\n",
        "summarizer(text_doc, max_length = int(0.2 * len(text_doc)))\n",
        "\n"
      ],
      "metadata": {
        "colab": {
          "base_uri": "https://localhost:8080/"
        },
        "id": "R8w8QMsTpUAD",
        "outputId": "bfc68655-0df7-4864-c17b-eb6b1894cf45"
      },
      "execution_count": 8,
      "outputs": [
        {
          "output_type": "execute_result",
          "data": {
            "text/plain": [
              "[{'summary_text': ' The FiveThirtyEight average of polling shows Trump with a 63.6% to 32.9% lead over Nikki Haley . Trump: \"We\\'re going to show crooked Joe Biden and the radical left Democrats that we are coming like a freight train in November\" Trump: If you want strong borders, safe neighborhoods, good jobs, great education and the return of the American dream then congratulations you are a Republican!'}]"
            ]
          },
          "metadata": {},
          "execution_count": 8
        }
      ]
    },
    {
      "cell_type": "code",
      "source": [
        "summarizer(text_doc, min_length=5, max_length=100)"
      ],
      "metadata": {
        "colab": {
          "base_uri": "https://localhost:8080/"
        },
        "id": "RiZEApa6s9px",
        "outputId": "14a911b9-b983-4650-8a0b-b23b99368a9f"
      },
      "execution_count": 14,
      "outputs": [
        {
          "output_type": "execute_result",
          "data": {
            "text/plain": [
              "[{'summary_text': ' The FiveThirtyEight average of polling shows Trump with a 63.6% to 32.9% lead over Nikki Haley . Trump: \"We\\'re going to have a gigantic victory here in South Carolina\"'}]"
            ]
          },
          "metadata": {},
          "execution_count": 14
        }
      ]
    },
    {
      "cell_type": "code",
      "source": [
        "# Tokenizers\n",
        "\n",
        "#Huggingface:\n",
        "#Like other neural networks, Transformer models can’t process raw text directly, so the first step of our pipeline is to convert the text inputs into numbers that the model can make sense of. To do this we use a tokenizer, which will be responsible for:\n",
        "\n",
        " #   Splitting the input into words, subwords, or symbols (like punctuation) that are called tokens\n",
        " #   Mapping each token to an integer\n",
        " #   Adding additional inputs that may be useful to the model"
      ],
      "metadata": {
        "id": "Fi4wgLMywIRn"
      },
      "execution_count": 17,
      "outputs": []
    },
    {
      "cell_type": "code",
      "source": [
        "from transformers import AutoTokenizer\n",
        "\n",
        "checkpoint = \"distilbert-base-uncased-finetuned-sst-2-english\"\n",
        "tokenizer = AutoTokenizer.from_pretrained(checkpoint)"
      ],
      "metadata": {
        "id": "L17uMzRCwMPc"
      },
      "execution_count": 18,
      "outputs": []
    },
    {
      "cell_type": "code",
      "source": [
        "raw_inputs = [\n",
        "    \"I've wanted to go to France my whole life.\",\n",
        "    \"I hate this so much!\",\n",
        "]\n",
        "inputs = tokenizer(raw_inputs, padding=True, truncation=True, return_tensors=\"pt\")\n",
        "print(inputs)"
      ],
      "metadata": {
        "colab": {
          "base_uri": "https://localhost:8080/"
        },
        "id": "s88JKjG2wP9b",
        "outputId": "fa0003be-b03a-4369-e035-c1b47bc37dbd"
      },
      "execution_count": 19,
      "outputs": [
        {
          "output_type": "stream",
          "name": "stdout",
          "text": [
            "{'input_ids': tensor([[ 101, 1045, 1005, 2310, 2359, 2000, 2175, 2000, 2605, 2026, 2878, 2166,\n",
            "         1012,  102],\n",
            "        [ 101, 1045, 5223, 2023, 2061, 2172,  999,  102,    0,    0,    0,    0,\n",
            "            0,    0]]), 'attention_mask': tensor([[1, 1, 1, 1, 1, 1, 1, 1, 1, 1, 1, 1, 1, 1],\n",
            "        [1, 1, 1, 1, 1, 1, 1, 1, 0, 0, 0, 0, 0, 0]])}\n"
          ]
        }
      ]
    }
  ]
}